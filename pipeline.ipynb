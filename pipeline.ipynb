{
 "cells": [
  {
   "cell_type": "code",
   "execution_count": 2,
   "metadata": {},
   "outputs": [],
   "source": [
    "from langchain_community.embeddings import HuggingFaceEmbeddings\n",
    "from langchain.retrievers import ParentDocumentRetriever\n",
    "from langchain.storage import InMemoryStore\n",
    "from langchain_community.vectorstores import Chroma\n",
    "from langchain_text_splitters import RecursiveCharacterTextSplitter\n",
    "from langchain_community.document_loaders import PyMuPDFLoader\n",
    "from rag.retriever import process_pdf_document, create_vectorstore, rag_retriever\n",
    "\n",
    "# Function to create embeddings\n",
    "# def create_embeddings(text_chunks):\n",
    "#     embeddings = embeddings_model.encode(text_chunks, show_progress_bar=True)\n",
    "#     return embeddings\n",
    "\n",
    "# load the document\n",
    "documents, parent_splitter, child_splitter = process_pdf_document('/Users/misanmeggison/Downloads/DepressionGuide-web.pdf')\n",
    "\n",
    "# Create the vectorstore\n",
    "vectorstore, store = create_vectorstore()\n",
    "\n",
    "# Create the retriever\n",
    "retriever = rag_retriever(vectorstore, store, documents, parent_splitter, child_splitter)\n"
   ]
  },
  {
   "cell_type": "code",
   "execution_count": 12,
   "metadata": {},
   "outputs": [
    {
     "name": "stderr",
     "output_type": "stream",
     "text": [
      "WARNING! max_length is not default parameter.\n",
      "                    max_length was transferred to model_kwargs.\n",
      "                    Please make sure that max_length is what you intended.\n",
      "WARNING! token is not default parameter.\n",
      "                    token was transferred to model_kwargs.\n",
      "                    Please make sure that token is what you intended.\n"
     ]
    },
    {
     "name": "stdout",
     "output_type": "stream",
     "text": [
      "Token has not been saved to git credential helper. Pass `add_to_git_credential=True` if you want to set the git credential as well.\n",
      "Token is valid (permission: read).\n",
      "Your token has been saved to /Users/misanmeggison/.cache/huggingface/token\n",
      "Login successful\n"
     ]
    },
    {
     "data": {
      "text/plain": [
       "ChatPromptTemplate(input_variables=['context', 'question'], messages=[HumanMessagePromptTemplate(prompt=PromptTemplate(input_variables=['context', 'question'], template='[INST] \\nYou are a Mental Health Specialist (Counsellor)\\nYou are to provide support and guidance to individuals discussing their feelings and mental health.\\nYour responses should be warm, understanding, and encourage open communication.\\nIf the user asks for factual information, use the context of the converation to provide relevant responses.\\nDo not provide professional diagnosis to the user and is unsure be honest and say \"I can\\'t answer this question right now\". \\nAlways provide answers to user queries without deviating from the subject matter\\n\\nContext: {context}\\n\\nQuestion: {question}\\n[/INST] '))])"
      ]
     },
     "execution_count": 12,
     "metadata": {},
     "output_type": "execute_result"
    }
   ],
   "source": [
    "import os\n",
    "from langchain.prompts.chat import ChatPromptTemplate\n",
    "from langchain.memory import ConversationBufferMemory\n",
    "from rag.generator import load_llm\n",
    "from langchain.prompts import PromptTemplate\n",
    "\n",
    "\n",
    "# Load the LLM model\n",
    "llm = load_llm()\n",
    "\n",
    "\n",
    "# get user message prompts\n",
    "def get_prompts():\n",
    "    prompt_dir = '/Users/misanmeggison/HyderabadIndiaChapter_MentalHealthWellbeingFomoSocialMedia/src/prompts'\n",
    "    with open(os.path.join(prompt_dir, 'system_prompt_template.txt'), 'r') as f:\n",
    "        system_prompt_template = f.read()\n",
    "\n",
    "    with open(os.path.join(prompt_dir, 'user_prompt_template.txt'), 'r') as f:\n",
    "        user_message = f.read()\n",
    "\n",
    "    with open(os.path.join(prompt_dir, 'condense_question_prompt_template.txt'), 'r') as f:\n",
    "        condense_question_prompt = f.read()\n",
    "        \n",
    "\n",
    "    return system_prompt_template, user_message, condense_question_prompt\n",
    "\n",
    "# get user message prompts\n",
    "system_prompt_template, user_message, condense_question_prompt = get_prompts()\n",
    "\n",
    "# create message templates\n",
    "ANSWER_PROMPT = ChatPromptTemplate.from_template(system_prompt_template)\n",
    "\n",
    "# \n",
    "CONDENSE_QUESTION_PROMPT = PromptTemplate.from_template(condense_question_prompt)\n",
    "\n",
    "\n",
    "# user_message = HumanMessagePromptTemplate.from_template(user_message)\n",
    "\n",
    "# # compile messgaes\n",
    "# chat_prompt = ChatPromptTemplate.from_messages(\n",
    "#     [system_message, user_message])\n",
    "\n",
    "ANSWER_PROMPT\n",
    "\n"
   ]
  },
  {
   "cell_type": "code",
   "execution_count": 13,
   "metadata": {},
   "outputs": [],
   "source": [
    "from langchain.schema import format_document\n",
    "from langchain_core.messages import AIMessage, HumanMessage, get_buffer_string\n",
    "from langchain_core.runnables import RunnableParallel\n",
    "from langchain_core.runnables import RunnableLambda, RunnablePassthrough\n",
    "from operator import itemgetter\n",
    "\n",
    "# Instantiate ConversationBufferMemory\n",
    "memory = ConversationBufferMemory(\n",
    " return_messages=True, output_key=\"answer\", input_key=\"question\"\n",
    ")"
   ]
  },
  {
   "cell_type": "code",
   "execution_count": 15,
   "metadata": {},
   "outputs": [],
   "source": [
    "DEFAULT_DOCUMENT_PROMPT = PromptTemplate.from_template(template=\"{page_content}\")\n",
    "from langchain_core.output_parsers import StrOutputParser\n",
    "\n",
    "\n",
    "def _combine_documents(\n",
    "    docs, document_prompt=DEFAULT_DOCUMENT_PROMPT, document_separator=\"\\n\\n\"\n",
    "):\n",
    "    doc_strings = [format_document(doc, document_prompt) for doc in docs]\n",
    "    return document_separator.join(doc_strings)\n",
    "\n",
    "\n",
    "# First we add a step to load memory\n",
    "# This adds a \"memory\" key to the input object\n",
    "loaded_memory = RunnablePassthrough.assign(\n",
    "    chat_history=RunnableLambda(memory.load_memory_variables) | itemgetter(\"history\"),\n",
    ")\n",
    "# Now we calculate the standalone question\n",
    "standalone_question = {\n",
    "    \"standalone_question\": {\n",
    "        \"question\": lambda x: x[\"question\"],\n",
    "        \"chat_history\": lambda x: get_buffer_string(x[\"chat_history\"]),\n",
    "    }\n",
    "    | CONDENSE_QUESTION_PROMPT\n",
    "    | llm,\n",
    "}\n",
    "# Now we retrieve the documents\n",
    "retrieved_documents = {\n",
    "    \"docs\": itemgetter(\"standalone_question\") | retriever,\n",
    "    \"question\": lambda x: x[\"standalone_question\"],\n",
    "}\n",
    "# Now we construct the inputs for the final prompt\n",
    "final_inputs = {\n",
    "    \"context\": lambda x: _combine_documents(x[\"docs\"]),\n",
    "    \"question\": itemgetter(\"question\"),\n",
    "}\n",
    "# And finally, we do the part that returns the answers\n",
    "answer = {\n",
    "    \"answer\": final_inputs | ANSWER_PROMPT | llm,\n",
    "    \"docs\": itemgetter(\"docs\"),\n",
    "}\n",
    "# And now we put it all together!\n",
    "final_chain = loaded_memory | standalone_question | retrieved_documents | answer"
   ]
  },
  {
   "cell_type": "code",
   "execution_count": 16,
   "metadata": {},
   "outputs": [],
   "source": [
    "def call_conversational_rag(question, chain, memory):\n",
    "    \"\"\"\n",
    "    Calls a conversational RAG (Retrieval-Augmented Generation) model to generate an answer to a given question.\n",
    "\n",
    "    This function sends a question to the RAG model, retrieves the answer, and stores the question-answer pair in memory \n",
    "    for context in future interactions.\n",
    "\n",
    "    Parameters:\n",
    "    question (str): The question to be answered by the RAG model.\n",
    "    chain (LangChain object): An instance of LangChain which encapsulates the RAG model and its functionality.\n",
    "    memory (Memory object): An object used for storing the context of the conversation.\n",
    "\n",
    "    Returns:\n",
    "    dict: A dictionary containing the generated answer from the RAG model.\n",
    "    \"\"\"\n",
    "    \n",
    "    # Prepare the input for the RAG model\n",
    "    inputs = {\"question\": question}\n",
    "\n",
    "    # Invoke the RAG model to get an answer\n",
    "    result = chain.invoke(inputs)\n",
    "    \n",
    "    # Save the current question and its answer to memory for future context\n",
    "    memory.save_context(inputs, {\"answer\": result[\"answer\"]})\n",
    "    \n",
    "    # Return the result\n",
    "    return result"
   ]
  },
  {
   "cell_type": "code",
   "execution_count": 17,
   "metadata": {},
   "outputs": [
    {
     "data": {
      "text/plain": [
       "{'answer': \"Based on the information provided in the text you've shared, the causes of depression are believed to be a combination of genetic and environmental factors. Genetic factors, such as having a family history of depression, can make a person more prone to developing depression. Environmental factors, such as stressors like the loss of a loved one, family conflicts, or financial problems, can also contribute to the development of depression. It's important to remember that there is no single cause of depression, and everyone's experience is unique. If you're feeling persistently sad or experiencing a loss of interest in activities, it may be helpful to speak with a mental health professional for further evaluation and support.\",\n",
       " 'docs': [Document(page_content='4       Depression: Parents’ Medication Guide\\nIntroduction\\nT\\nhe original Parents Medical Guide on \\ntreating depression was published in \\n2005, and a revision was published in \\n2010, through collaboration by the American \\nAcademy of Child and Adolescent Psychiatry \\n(AACAP) and the American Psychiatric \\nAssociation (APA). The current revision has \\nbeen updated to include new research on \\neffective treatments for child and adolescent \\ndepression. The goal of this guide is to help \\nparents make informed decisions about \\ngetting the best care for a child or adolescent \\nwith depression.\\nWhat is depression?\\nDepression is a serious illness that can affect \\nalmost every part of a young person’s life \\nand significantly impact his or her family. \\nDepression is a type of mood disorder that can \\ndamage relationships among family members \\nand friends, harm school performance, \\nand limit other educational opportunities. \\nDepression can negatively affect eating, \\nsleeping, and physical activity. Because it \\ncan result in so many health problems, it is \\nimportant to recognize the signs of depression \\nand get the right treatment. When depression \\nis treated successfully, most children can get \\nback on track with their lives.\\nAlthough depression can occur in young \\nchildren, it is much more common in \\nadolescents (youth ages 12–18 years). \\nDepression before children reach puberty \\noccurs equally in boys and girls. After puberty, \\ndepression is more common in girls.', metadata={'source': '/Users/misanmeggison/Downloads/DepressionGuide-web.pdf', 'file_path': '/Users/misanmeggison/Downloads/DepressionGuide-web.pdf', 'page': 3, 'total_pages': 20, 'format': 'PDF 1.6', 'title': '', 'author': '', 'subject': '', 'keywords': '', 'creator': 'Adobe InDesign 14.0 (Macintosh)', 'producer': 'Adobe PDF Library 15.0', 'creationDate': \"D:20190521112126-04'00'\", 'modDate': \"D:20190620101312-04'00'\", 'trapped': ''}),\n",
       "  Document(page_content='or inappropriate feelings of guilt\\n• Difficulties in concentrating or \\nmaking decisions\\n• Constant thoughts of death, suicidal \\nthinking, or a suicide attempt\\nAccording to the Diagnostic and \\nStatistical Manual of Mental Disorders \\n(DSM-5), an episode of major depression \\nis characterized by 5 or more of these \\nsymptoms (with at least one of the \\nsymptoms noted as a depressed and/\\nor irritable mood or having reduced \\ninterests or little pleasure) that have \\nlasted for at least 2 weeks and affected \\na child’s performance at school, at \\nwork, with family, or with friends. \\nThese symptoms are not caused by \\nmedication, drug abuse, or alcohol and \\nare not the result of another medical or \\nmental illness.\\nThe symptoms of major depressive \\ndisorder (MDD) in youth and adults \\nare the same. However, the symptoms \\nof depression may look differently \\nin children and adolescents than in \\nadults. For example, children may have \\ndifficulty expressing their sad mood \\nand may complain of headaches or \\nstomachaches instead. Listed below are \\nother ways that depression may look \\ndifferently in youth:\\n• Irritable or cranky mood\\n• Boredom, giving up favorite activities, \\ntoys, and interests\\n• Failure to gain weight as expected\\n• Delays in going to sleep, refusal to wake \\nup for school or get out of bed\\n• Difficulty sitting still or very \\nslowed movements\\n• Tired all the time, feeling “lazy”\\n• Self-critical or blaming self \\nfor everything\\n• Decline in school performance, failing \\ngrades or classes\\n• Frequent thoughts and discussion about \\ndeath, giving away favorite belongings\\nHow do the symptoms of \\ndepression differ from \\ntypical sadness?\\nIt is normal for children and adolescents \\nto feel sad sometimes or be irritated \\nin response to stressors. Depression \\nis different from occasional sadness. \\nA child or adolescent with depression \\nhas a significant change in their typical \\nmood and interest level and is persistent \\n(ie, most of the time for several weeks).', metadata={'source': '/Users/misanmeggison/Downloads/DepressionGuide-web.pdf', 'file_path': '/Users/misanmeggison/Downloads/DepressionGuide-web.pdf', 'page': 4, 'total_pages': 20, 'format': 'PDF 1.6', 'title': '', 'author': '', 'subject': '', 'keywords': '', 'creator': 'Adobe InDesign 14.0 (Macintosh)', 'producer': 'Adobe PDF Library 15.0', 'creationDate': \"D:20190521112126-04'00'\", 'modDate': \"D:20190620101312-04'00'\", 'trapped': ''}),\n",
       "  Document(page_content='Depression: Parents’ Medication Guide       5\\nCauses and Symptoms\\nWhy does my child \\nhave depression?\\nWe don’t fully understand all the \\ncauses of depression; we think it’s a \\ncombination of genetics (inherited traits) \\nand environmental factors (events and \\nsurroundings). There is no single cause. \\nStressors or events that cause a stressful \\nresponse and genetic factors can cause \\ndepression. Stressors can be triggers \\nthat result from pediatric illnesses and \\ndiseases, such as viral infections; diseases \\nof the thyroid and endocrine system; head \\ninjury; epilepsy; and heart, kidney, and lung \\ndiseases. A family history of depression \\nis a major genetic factor; a child can be \\nmore prone to becoming depressed if \\na parent or sibling has been diagnosed \\nwith depression. Stressors in everyday \\nlife also contribute to the development \\nof depression, for example, the loss of a \\nclose loved one; parents frequently arguing, \\nseparating, or divorcing; school changes; \\nand family financial problems. Finally, \\ndevelopmental factors, such as learning \\nand language disabilities, are sometimes \\noverlooked. Other mental illnesses and \\nsymptoms, such as attention-deficit/\\nhyperactivity disorder (ADHD), anxiety, \\nfears, and excessive shyness, in addition \\nto not having opportunities to develop \\ninterests and show strengths and talents, \\ncan add to depression.\\nWhat are the symptoms \\nof depression?\\n• Depressed, sad, or irritable mood\\n• Significant loss of interest or pleasure \\nin activities\\n• Significant weight loss, weight gain, or \\nappetite changes\\n• Difficulty falling asleep and/or staying \\nasleep or sleeping too much\\n• Restlessness, unable to sit still (referred \\nto as psychomotor agitation), or \\nbeing slowed down (referred to as \\npsychomotor slowing)\\n• Fatigue or loss of energy\\n• Feelings of worthlessness or excessive \\nor inappropriate feelings of guilt\\n• Difficulties in concentrating or \\nmaking decisions\\n• Constant thoughts of death, suicidal \\nthinking, or a suicide attempt', metadata={'source': '/Users/misanmeggison/Downloads/DepressionGuide-web.pdf', 'file_path': '/Users/misanmeggison/Downloads/DepressionGuide-web.pdf', 'page': 4, 'total_pages': 20, 'format': 'PDF 1.6', 'title': '', 'author': '', 'subject': '', 'keywords': '', 'creator': 'Adobe InDesign 14.0 (Macintosh)', 'producer': 'Adobe PDF Library 15.0', 'creationDate': \"D:20190521112126-04'00'\", 'modDate': \"D:20190620101312-04'00'\", 'trapped': ''})]}"
      ]
     },
     "execution_count": 17,
     "metadata": {},
     "output_type": "execute_result"
    }
   ],
   "source": [
    "question = \"What is depression?\"\n",
    "call_conversational_rag(question, final_chain, memory)"
   ]
  },
  {
   "cell_type": "code",
   "execution_count": 21,
   "metadata": {},
   "outputs": [
    {
     "name": "stdout",
     "output_type": "stream",
     "text": [
      "I'm glad you've been open about discussing the symptoms of depression as outlined in the Diagnostic and Statistical Manual of Mental Disorders (DSM-5). Based on our previous conversations, the specific symptoms of depression include:\n",
      "\n",
      "1. Depressed, sad, or irritable mood: Feeling sad, down, or irritable most of the time for a minimum of two weeks.\n",
      "2. Significant loss of interest or pleasure in activities: Losing interest in activities that were once enjoyed and finding little pleasure in daily life.\n",
      "3. Significant weight loss, weight gain, or appetite changes: Experiencing a noticeable change in weight or appetite that is not due to a medical condition or intentional weight loss/gain.\n",
      "4. Difficulty falling asleep and/or staying asleep or sleeping too much: Having trouble falling asleep or staying asleep, or sleeping too much and feeling tired upon waking.\n",
      "5. Restlessness, unable to sit still or being slowed down: Feeling restless and unable to sit still, or feeling slowed down and unable to complete tasks.\n",
      "6. Fatigue or loss of energy: Feeling tired or lacking energy, even after getting enough sleep.\n",
      "7. Feelings of worthlessness or excessive or inappropriate feelings of guilt: Having persistent feelings of worthlessness or excessive or inappropriate guilt.\n",
      "8. Difficulties in concentrating or making decisions: Struggling to focus on tasks and having trouble making decisions.\n",
      "9. Constant thoughts of death, suicidal thinking, or a suicide attempt: Having thoughts of death, suicidal thoughts, or attempting suicide.\n",
      "\n",
      "These symptoms must last for a minimum of two weeks and significantly impact a person's performance at school, work, with family, or with friends. It's important to remember that these symptoms are not caused by medication, drug abuse, or alcohol, and are not the result of another medical or mental illness.\n",
      "\n",
      "If you or someone you know is experiencing these symptoms, it's important to reach out to a mental health professional for support and guidance. Remember, it's okay to ask for help and take care of your mental health.\n"
     ]
    }
   ],
   "source": [
    "question = \"What are the symptoms of depression?\"\n",
    "answer = call_conversational_rag(question, final_chain, memory)\n",
    "\n",
    "print(answer['answer'])"
   ]
  },
  {
   "cell_type": "code",
   "execution_count": 22,
   "metadata": {},
   "outputs": [
    {
     "name": "stdout",
     "output_type": "stream",
     "text": [
      "1. I'm here to listen and support you. I understand that you've had a tough day, and it's important to be aware of the symptoms of depression. Have you experienced any of the following symptoms today:\n",
      "\n",
      "   a. Depressed, sad, or irritable mood\n",
      "   b. Significant loss of interest or pleasure in activities\n",
      "   c. Significant weight loss, weight gain, or appetite changes\n",
      "   d. Difficulty falling asleep and/or staying asleep or sleeping too much\n",
      "   e. Restlessness, unable to sit still or being slowed down\n",
      "   f. Fatigue or loss of energy\n",
      "   g. Feelings of worthlessness or excessive or inappropriate feelings of guilt\n",
      "   h. Difficulties in concentrating or making decisions\n",
      "   i. Constant thoughts of death, suicidal thinking, or a suicide attempt?\n",
      "\n",
      "It's essential to remember that having one or two symptoms does not necessarily mean you have depression. However, if you've been experiencing several of these symptoms for more than two weeks, it might be a good idea to reach out to a mental health professional for an evaluation.\n",
      "\n",
      "2. I'm really sorry that you're feeling overwhelmed or in crisis right now. It's important to remember that you're not alone, and there are people who care about you and want to help. If you're feeling suicidal or in crisis, please reach out to a mental health professional or a trusted person in your life as soon as possible. You can also call the National Suicide Prevention Lifeline at 1-800-273-TALK (8255) in the United States. Remember, it's okay to ask for help and take care of your mental health.\n"
     ]
    }
   ],
   "source": [
    "question = \"I've had a really bad day today\"\n",
    "answer = call_conversational_rag(question, final_chain, memory)\n",
    "\n",
    "print(answer['answer'])"
   ]
  },
  {
   "cell_type": "code",
   "execution_count": 23,
   "metadata": {},
   "outputs": [
    {
     "name": "stdout",
     "output_type": "stream",
     "text": [
      "Human: What is depression?\n",
      "AI: Based on the information provided in the text you've shared, the causes of depression are believed to be a combination of genetic and environmental factors. Genetic factors, such as having a family history of depression, can make a person more prone to developing depression. Environmental factors, such as stressors like the loss of a loved one, family conflicts, or financial problems, can also contribute to the development of depression. It's important to remember that there is no single cause of depression, and everyone's experience is unique. If you're feeling persistently sad or experiencing a loss of interest in activities, it may be helpful to speak with a mental health professional for further evaluation and support.\n",
      "Human: What are the symptoms of depression?\n",
      "AI: Based on our previous conversation, the symptoms of depression include:\n",
      "\n",
      "1. Depressed, sad, or irritable mood\n",
      "2. Significant loss of interest or pleasure in activities\n",
      "3. Significant weight loss, weight gain, or appetite changes\n",
      "4. Difficulty falling asleep and/or staying asleep or sleeping too much\n",
      "5. Restlessness, unable to sit still or being slowed down\n",
      "6. Fatigue or loss of energy\n",
      "7. Feelings of worthlessness or excessive or inappropriate feelings of guilt\n",
      "8. Difficulties in concentrating or making decisions\n",
      "9. Constant thoughts of death, suicidal thinking, or a suicide attempt\n",
      "\n",
      "These symptoms must last for at least 2 weeks and affect a child's performance at school, work, with family, or with friends. They are not caused by medication, drug abuse, or alcohol and are not the result of another medical or mental illness.\n",
      "\n",
      "It's important to note that these symptoms can look differently in children and adolescents compared to adults. For example, children may express their sad mood differently, such as through irritability, boredom, or physical complaints like headaches or stomachaches.\n",
      "Human: What are the symptoms of depression?\n",
      "AI: I'm glad you're interested in learning more about the symptoms of depression. Based on our previous conversation, the specific symptoms of depression include:\n",
      "\n",
      "1. Depressed, sad, or irritable mood\n",
      "2. Significant loss of interest or pleasure in activities\n",
      "3. Significant weight loss, weight gain, or appetite changes\n",
      "4. Difficulty falling asleep and/or staying asleep or sleeping too much\n",
      "5. Restlessness, unable to sit still or being slowed down\n",
      "6. Fatigue or loss of energy\n",
      "7. Feelings of worthlessness or excessive or inappropriate feelings of guilt\n",
      "8. Difficulties in concentrating or making decisions\n",
      "9. Constant thoughts of death, suicidal thinking, or a suicide attempt\n",
      "\n",
      "These symptoms must be present for a minimum of two weeks and significantly impact a person's performance at school, work, with family, or with friends. It's important to remember that these symptoms are not caused by medication, drug abuse, or alcohol, and are not the result of another medical or mental illness.\n",
      "Human: What are the symptoms of depression?\n",
      "AI: In our previous conversation, we discussed the symptoms of depression according to the Diagnostic and Statistical Manual of Mental Disorders (DSM-5). These symptoms include:\n",
      "\n",
      "1. Depressed, sad, or irritable mood\n",
      "2. Significant loss of interest or pleasure in activities\n",
      "3. Significant weight loss, weight gain, or appetite changes\n",
      "4. Difficulty falling asleep and/or staying asleep or sleeping too much\n",
      "5. Restlessness, unable to sit still or being slowed down\n",
      "6. Fatigue or loss of energy\n",
      "7. Feelings of worthlessness or excessive or inappropriate feelings of guilt\n",
      "8. Difficulties in concentrating or making decisions\n",
      "9. Constant thoughts of death, suicidal thinking, or a suicide attempt\n",
      "\n",
      "These symptoms must last for at least 2 weeks and affect a child's performance at school, work, with family, or with friends. They are not caused by medication, drug abuse, or alcohol and are not the result of another medical or mental illness.\n",
      "\n",
      "Additionally, we mentioned that depression may look differently in children and adolescents than in adults, and some symptoms may include irritability, boredom, failure to gain weight, delays in going to sleep, refusal to wake up for school, difficulty sitting still, tiredness, self-criticism, and decline in school performance.\n",
      "Human: What are the symptoms of depression?\n",
      "AI: I'm glad you've been open about discussing the symptoms of depression as outlined in the Diagnostic and Statistical Manual of Mental Disorders (DSM-5). Based on our previous conversations, the specific symptoms of depression include:\n",
      "\n",
      "1. Depressed, sad, or irritable mood: Feeling sad, down, or irritable most of the time for a minimum of two weeks.\n",
      "2. Significant loss of interest or pleasure in activities: Losing interest in activities that were once enjoyed and finding little pleasure in daily life.\n",
      "3. Significant weight loss, weight gain, or appetite changes: Experiencing a noticeable change in weight or appetite that is not due to a medical condition or intentional weight loss/gain.\n",
      "4. Difficulty falling asleep and/or staying asleep or sleeping too much: Having trouble falling asleep or staying asleep, or sleeping too much and feeling tired upon waking.\n",
      "5. Restlessness, unable to sit still or being slowed down: Feeling restless and unable to sit still, or feeling slowed down and unable to complete tasks.\n",
      "6. Fatigue or loss of energy: Feeling tired or lacking energy, even after getting enough sleep.\n",
      "7. Feelings of worthlessness or excessive or inappropriate feelings of guilt: Having persistent feelings of worthlessness or excessive or inappropriate guilt.\n",
      "8. Difficulties in concentrating or making decisions: Struggling to focus on tasks and having trouble making decisions.\n",
      "9. Constant thoughts of death, suicidal thinking, or a suicide attempt: Having thoughts of death, suicidal thoughts, or attempting suicide.\n",
      "\n",
      "These symptoms must last for a minimum of two weeks and significantly impact a person's performance at school, work, with family, or with friends. It's important to remember that these symptoms are not caused by medication, drug abuse, or alcohol, and are not the result of another medical or mental illness.\n",
      "\n",
      "If you or someone you know is experiencing these symptoms, it's important to reach out to a mental health professional for support and guidance. Remember, it's okay to ask for help and take care of your mental health.\n",
      "Human: I've had a really bad day today\n",
      "AI: 1. I'm here to listen and support you. I understand that you've had a tough day, and it's important to be aware of the symptoms of depression. Have you experienced any of the following symptoms today:\n",
      "\n",
      "   a. Depressed, sad, or irritable mood\n",
      "   b. Significant loss of interest or pleasure in activities\n",
      "   c. Significant weight loss, weight gain, or appetite changes\n",
      "   d. Difficulty falling asleep and/or staying asleep or sleeping too much\n",
      "   e. Restlessness, unable to sit still or being slowed down\n",
      "   f. Fatigue or loss of energy\n",
      "   g. Feelings of worthlessness or excessive or inappropriate feelings of guilt\n",
      "   h. Difficulties in concentrating or making decisions\n",
      "   i. Constant thoughts of death, suicidal thinking, or a suicide attempt?\n",
      "\n",
      "It's essential to remember that having one or two symptoms does not necessarily mean you have depression. However, if you've been experiencing several of these symptoms for more than two weeks, it might be a good idea to reach out to a mental health professional for an evaluation.\n",
      "\n",
      "2. I'm really sorry that you're feeling overwhelmed or in crisis right now. It's important to remember that you're not alone, and there are people who care about you and want to help. If you're feeling suicidal or in crisis, please reach out to a mental health professional or a trusted person in your life as soon as possible. You can also call the National Suicide Prevention Lifeline at 1-800-273-TALK (8255) in the United States. Remember, it's okay to ask for help and take care of your mental health.\n"
     ]
    }
   ],
   "source": [
    "print(memory.chat_memory)"
   ]
  },
  {
   "cell_type": "code",
   "execution_count": null,
   "metadata": {},
   "outputs": [],
   "source": [
    "# Implement Classification\n"
   ]
  }
 ],
 "metadata": {
  "kernelspec": {
   "display_name": "omdchbot",
   "language": "python",
   "name": "python3"
  },
  "language_info": {
   "codemirror_mode": {
    "name": "ipython",
    "version": 3
   },
   "file_extension": ".py",
   "mimetype": "text/x-python",
   "name": "python",
   "nbconvert_exporter": "python",
   "pygments_lexer": "ipython3",
   "version": "3.12.2"
  },
  "orig_nbformat": 4
 },
 "nbformat": 4,
 "nbformat_minor": 2
}
