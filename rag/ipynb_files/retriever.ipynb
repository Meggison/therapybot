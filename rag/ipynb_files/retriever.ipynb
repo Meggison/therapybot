{
 "cells": [
  {
   "cell_type": "code",
   "execution_count": 2,
   "metadata": {},
   "outputs": [],
   "source": [
    "#### Documents ####\n",
    "cbt_interviews = 'https://docs.google.com/document/d/1W0kc4UrimQN9YGhKGWsyY59cWyzktALpI9PsWT-m8sY/edit'\n",
    "\n"
   ]
  },
  {
   "cell_type": "code",
   "execution_count": 22,
   "metadata": {},
   "outputs": [
    {
     "data": {
      "text/plain": [
       "[Document(page_content='August 2009\\nAustralian treatment guide \\nfor consumers and carers\\nCoping with  \\ndepression\\n', metadata={'source': '/Users/misanmeggison/Downloads/AUS_Depression _consumer and carer tx guidelines.pdf', 'file_path': '/Users/misanmeggison/Downloads/AUS_Depression _consumer and carer tx guidelines.pdf', 'page': 0, 'total_pages': 17, 'format': 'PDF 1.4', 'title': '', 'author': '', 'subject': '', 'keywords': '', 'creator': 'Adobe InDesign CS2 (4.0)', 'producer': 'Adobe PDF Library 7.0', 'creationDate': \"D:20090908104936+10'00'\", 'modDate': \"D:20090908105009+10'00'\", 'trapped': ''}),\n",
       " Document(page_content='© The Royal Australian and New Zealand College of Psychiatrists, \\n2009\\nCompiled by The Royal Australian and New Zealand College of Psychiatrists (RANZCP), \\nthis information and advice is based on current medical knowledge and practice as at \\nthe date of publication. It is intended as a general guide only, and not as a substitute \\nfor individual medical advice. The RANZCP and its employees accept no responsibility \\nfor any consequences arising from relying upon the information contained in this \\npublication.\\n \\nThe Royal Australian and New Zealand College of Psychiatrists\\n309 La Trobe Street\\nMelbourne Victoria 3000\\nAustralia\\nTelephone: (03) 9640 0646\\nFacsimile: (03) 9642 5652\\nEmail: ranzcp@ranzcp.org\\nWebsite: www.ranzcp.org\\nKey points about depression \\n3\\nIntroduction \\n5\\nDo I need to get professional help? \\n9\\nGetting treatment \\n14\\nAppendix 1: Sources of information and support \\n24\\nAppendix 2: Acronyms \\n26\\nAppendix 3: Development of the guideline \\n27\\nAcknowledgements \\n28\\nContents\\n', metadata={'source': '/Users/misanmeggison/Downloads/AUS_Depression _consumer and carer tx guidelines.pdf', 'file_path': '/Users/misanmeggison/Downloads/AUS_Depression _consumer and carer tx guidelines.pdf', 'page': 1, 'total_pages': 17, 'format': 'PDF 1.4', 'title': '', 'author': '', 'subject': '', 'keywords': '', 'creator': 'Adobe InDesign CS2 (4.0)', 'producer': 'Adobe PDF Library 7.0', 'creationDate': \"D:20090908104936+10'00'\", 'modDate': \"D:20090908105009+10'00'\", 'trapped': ''}),\n",
       " Document(page_content='2\\nKey points about  \\ndepression\\n1 Depression is often associated with feeling sad \\nor tearful. Experiencing these feelings does \\nnot necessarily mean someone is suffering \\ndepression.\\n2 Clinical depression is one of the most common \\nserious mental disorders, with about one in \\nfive people experiencing clinical depression at \\nsome point in their lives. Clinical depression \\nlasts for at least two weeks and can be very \\ndisabling, affecting a person’s emotions, thinking, \\nbehaviour and physical wellbeing. Someone who \\nsuffers clinical depression is often not able to get \\nbetter without treatment.\\n3 With effective treatment, time and support, \\npeople can recover from clinical depression.\\n4 Depression is a serious condition that causes \\nmany people to be disabled, experience other \\nphysical complications and even to suffer \\npremature death through accident or suicide.\\n5 If you think that you or a member of your family \\nmay be depressed, you can ask your general \\npractitioner (GP) for an assessment, which may \\ninclude referral to a psychiatrist or psychologist.\\n3\\n', metadata={'source': '/Users/misanmeggison/Downloads/AUS_Depression _consumer and carer tx guidelines.pdf', 'file_path': '/Users/misanmeggison/Downloads/AUS_Depression _consumer and carer tx guidelines.pdf', 'page': 2, 'total_pages': 17, 'format': 'PDF 1.4', 'title': '', 'author': '', 'subject': '', 'keywords': '', 'creator': 'Adobe InDesign CS2 (4.0)', 'producer': 'Adobe PDF Library 7.0', 'creationDate': \"D:20090908104936+10'00'\", 'modDate': \"D:20090908105009+10'00'\", 'trapped': ''}),\n",
       " Document(page_content='Introduction  \\n \\n \\nMost of us can feel miserable, sad or ‘down in the dumps’ at times. \\nWe might feel like this when someone we love has died or moved \\naway, or if we have lost a job, or had stressful or difficult things to \\ncope with. Usually these feelings fade over time, especially when \\npeople have other good things happening in their lives. This is ‘feeling \\ndepressed’ or ‘sad’ and is not a depressive illness.\\nWhen these feelings are intense and persistent, and stop us from \\ndoing the things we would usually do over a period of weeks or \\nlonger, it is likely to be depressive illness. Even when circumstances and \\nrelationships improve, a person with depressive illness will find their \\nlow mood still persists. Despite their best efforts, and the efforts of \\nthose close to them, they are unable to ‘feel good’ again. There may \\nbe problems with poor sleep or change in appetite. \\nDepressive illness can vary from just interfering with usual activities and \\nrelationships (mild to moderate depression), to being very debilitating \\n(severe or ‘major depression’). Severe depression can make it hard or \\neven impossible for the person to relate and communicate with others, \\nor to do day-to-day tasks. People sometimes:\\n•  lose the will to live\\n•  become totally withdrawn and isolate themselves\\n•  feel ‘trapped’ in their lifestyle and can see no way out of it\\n•  may even feel guilty about being depressed because they ‘have \\neverything’ or don’t feel they have a reason to be depressed\\n•  feel worthless or hopeless\\n•  believe that they are a burden to others.\\n5\\n4\\n6 Effective treatment may include ‘talking \\ntherapies’ such as cognitive behavioural therapy \\n(CBT) and other psychological therapies and/or \\nanti-depressant medications.\\n7 There is a range of other strategies to assist \\nin the treatment of depression, such as diet, \\nexercise and alternative medicines. Medical \\ntreatments and other strategies can be adapted \\nto the individual and are often mutually \\nenhancing.\\n8 It is common practice for families and carers to be \\ninvolved in providing support to those suffering \\ndepression. Many services are available to \\nsupport families and carers. \\n9 Treating depression early is important to get the \\nbest outcomes.\\n10 Some people are at higher risk of developing \\ndepression, and certain events during people’s \\nlives can also increase a person’s risk of suffering \\ndepression.\\n', metadata={'source': '/Users/misanmeggison/Downloads/AUS_Depression _consumer and carer tx guidelines.pdf', 'file_path': '/Users/misanmeggison/Downloads/AUS_Depression _consumer and carer tx guidelines.pdf', 'page': 3, 'total_pages': 17, 'format': 'PDF 1.4', 'title': '', 'author': '', 'subject': '', 'keywords': '', 'creator': 'Adobe InDesign CS2 (4.0)', 'producer': 'Adobe PDF Library 7.0', 'creationDate': \"D:20090908104936+10'00'\", 'modDate': \"D:20090908105009+10'00'\", 'trapped': ''}),\n",
       " Document(page_content='Whilst it is common for people experiencing depression to show \\nthese symptoms, many often hide these feelings and it is not always \\napparent that someone is suffering depression.\\nSometimes when depression is very severe, people may become \\nconvinced that some things are true that others know are not true. \\nThey may come to believe that they are the cause of certain bad things \\nin the world, or that they have lost all their possessions, or are guilty \\nof some crime. At other times, people may believe that they can hear \\npeople saying bad things about them, or may be seeing and hearing \\nthings that do not exist. Such serious illness indicates the need for \\nurgent medical treatment.\\nThe terms used to describe depression may vary for different cultures. \\nIf your culture or first language differs from that of your health \\nprofessional, you may benefit from the assistance of a cultural advisor \\nin discussing symptoms of depression.\\nWhat are the possible risk factors for \\ndepression?\\nSome people are at a higher risk of developing depression and \\nthere is seldom one, if any, specific ‘cause’. There are biological, \\npsychological or personality factors that can contribute to an increased \\nrisk of developing depression as well as the influence of social or \\nenvironmental stressors. Chronic stress factors, physical illnesses and/or \\nfamily history may provide a trigger for depression in some people. \\nSometimes depression may be experienced by more than one family \\nmember. This is because the way that we behave and react is partly \\nshaped by our genes (the physical make-up we are born with). \\nThe use of alcohol or other drugs can trigger or exacerbate depression.\\n7\\n6\\nPositive experiences such as a close relationship with a parent or friend \\nor a ‘purpose in life’ can strengthen resilience and reduce the risk of \\ndeveloping depression or of depression recurring or worsening. Other \\nfactors that may reduce the risk of depression or prevent a recurrence \\nare: balanced lifestyle, regular relaxation and stress management, \\ngood nutrition, adequate exercise and strong social connections.\\nHow common is depression?\\nDepression is very common. People of all ages, cultures and \\nbackgrounds can experience depression.\\n•  At some stage in their life, about one in five people will experience \\nat least a short period of depression.\\n•  In any one month in Australia, 4% of the adult population will \\nexperience a depressive disorder.\\n•  Of these, 40% will also be experiencing another mental or  \\nphysical illness.\\n•  Many people who experience depression can also be affected by \\nalcohol and/or substance abuse.\\nThe symptoms of depression vary in severity and from person to \\nperson. They can range from feeling irritable to feeling suicidal.\\nThere are many factors that may increase the risk \\nof depression. There are also things that protect \\nagainst or enhance resilience to depressive illness.\\n', metadata={'source': '/Users/misanmeggison/Downloads/AUS_Depression _consumer and carer tx guidelines.pdf', 'file_path': '/Users/misanmeggison/Downloads/AUS_Depression _consumer and carer tx guidelines.pdf', 'page': 4, 'total_pages': 17, 'format': 'PDF 1.4', 'title': '', 'author': '', 'subject': '', 'keywords': '', 'creator': 'Adobe InDesign CS2 (4.0)', 'producer': 'Adobe PDF Library 7.0', 'creationDate': \"D:20090908104936+10'00'\", 'modDate': \"D:20090908105009+10'00'\", 'trapped': ''}),\n",
       " Document(page_content='9\\n8\\nCommon symptoms of depression\\nDepression can manifest itself in many different ways, and sometimes \\na physical symptom may have gone undetected for a very long time.\\nDo I need to get  \\nprofessional help? \\n \\nOften people do not seek help for depression as some may feel \\nembarrassed, fear stigma or think that their being depressed is a sign \\nof personal weakness. In some cases, people might not even know \\nthey are experiencing depression, but may be worried about physical \\nsymptoms, such as headaches or chest pain, which can be the way \\nyour body expresses tension and anxiety as part of a depressive illness.\\nGetting help for depression is not a sign of weakness. It is important \\nto find ways of getting help to treat it as soon as possible. There are \\nmany different ways to seek help, from speaking to friends and family, \\nand researching online educational material (see Appendix 1 for useful \\nwebsites), to seeing a GP, nurse or mental health professional who will \\nbe able to advise on the choices you can make about which treatment \\nwill suit you best.\\nIf you find it easier, you could always ask a friend or someone from \\nyour family or cultural/community group to go with you when you \\nattend an appointment.\\n \\nDepression may recur. Treatment may prevent \\nrecurrence or reduce the severity of depression.\\nIt is a good idea to ask for help before your \\ndepression gets severe.\\nIf you have severe depression, always ask for help  \\nif you have thoughts of self-harm.\\nCognitive (thoughts) symptoms\\n•  Worrying\\n•  Feeling worthless\\n•  Feeling hopeless\\n•  Thinking about death frequently\\n•  Guilt, self blame\\n•  Indecision\\nPhysical symptoms\\n•  Can‘t concentrate\\n•  Fatigue or low energy nearly everyday\\n•  Significant change in weight or appetite\\n•  Difficulty sleeping\\n•  More sensitive to pain\\n•  Agitation or being slowed down\\nEmotional symptoms\\n•  Pervasive sadness\\n•  Irritable mood\\n•  Low, depressed mood\\n•  Loss of enjoyment or pleasure\\n•  Irritability or being aggressive and angry\\nSocial symptoms\\n• Withdrawing or deliberately  \\nisolating yourself\\n', metadata={'source': '/Users/misanmeggison/Downloads/AUS_Depression _consumer and carer tx guidelines.pdf', 'file_path': '/Users/misanmeggison/Downloads/AUS_Depression _consumer and carer tx guidelines.pdf', 'page': 5, 'total_pages': 17, 'format': 'PDF 1.4', 'title': '', 'author': '', 'subject': '', 'keywords': '', 'creator': 'Adobe InDesign CS2 (4.0)', 'producer': 'Adobe PDF Library 7.0', 'creationDate': \"D:20090908104936+10'00'\", 'modDate': \"D:20090908105009+10'00'\", 'trapped': ''}),\n",
       " Document(page_content='If it happened once, will it  \\nhappen again?\\nIt can do. Of those who have an episode of clinical depression, 60% \\nremain free of it over the next year, but others can have a relapse \\nduring this time.\\n•  Those who have already had three episodes of depression have a \\nhigher rate of recurrence.\\n•  Of this group, 20% remain free of depression over three years.\\n•  The pattern of relapse varies between different people – some \\nhave long periods free of depression, others have clusters of \\nepisodes, and still others have more episodes more often as they \\ngrow older.\\n•  For some people, depression is more common at a particular time \\nof year, particularly the winter months.\\nHow do I get help?\\nThere are many good websites that provide information on depression \\nand available treatments to aid recovery as well as strategies to reduce \\nthe risk of occurrence (see Appendix 1). It is often helpful to speak \\nwith family members and friends who may be able to provide support.\\nThere are many different health professionals who can assist, and \\noften a GP is the first health professional from whom to seek help. \\nWhen making an appointment, it is a good idea to ask for a long \\nappointment. This will give you time to discuss your situation, \\ncomplete an assessment and discuss possible treatment strategies.\\nDepression can be treated by a GP, although sometimes your GP \\nmight involve a specialist, either to provide advice or to take over the \\ntreatment for a short period. The specialist might be a psychologist \\nor a psychiatrist, or your GP may provide you with a referral to a local \\nspecialist mental health team.\\nIt is common for people who have depression to have thoughts about \\nharming themselves. Some people feel so distressed that they fear they \\nwill act on these thoughts. Seeking professional help at your mental \\nhealth centre, GP, or Emergency Department of your hospital, or by \\nphoning Lifeline, is recommended if thoughts like these distress you at \\nany time.\\nYou can also discuss these feelings with a trusted family member \\nor friend until you feel safer – it is important not to be alone when \\ndepression symptoms worsen, so you do not feel overwhelmed with \\nnegative and distressing thoughts.\\nWhere do I receive treatment?\\nTreatment can be provided in a variety of settings. Some treatment \\nmay be initiated by seeking help from a GP and may also involve \\nseeing a psychologist or psychiatrist. Treatment may also be provided \\nin the community or at home via self-help strategies. In some \\ncircumstances you may wish to receive treatment in a hospital, either \\npublic or private. If there is serious cause for concern regarding your \\nsafety or the safety of others, you may receive hospital treatment on a \\nvoluntary or even an involuntary basis.\\nWhat can I expect from treatment?\\nIt is often hard to know what to expect from treatment for health \\nproblems. This guide is based on research evidence and is written \\nby health professionals, carers and those who have experienced \\ndepression, who agree that it is your right to have treatments that \\nhave been shown by research to work. It is a responsibility of health \\nprofessionals to tell you about the treatments that are more likely to \\nwork in most people, and which are likely to benefit you. Equally, it is \\n11\\n10\\n', metadata={'source': '/Users/misanmeggison/Downloads/AUS_Depression _consumer and carer tx guidelines.pdf', 'file_path': '/Users/misanmeggison/Downloads/AUS_Depression _consumer and carer tx guidelines.pdf', 'page': 6, 'total_pages': 17, 'format': 'PDF 1.4', 'title': '', 'author': '', 'subject': '', 'keywords': '', 'creator': 'Adobe InDesign CS2 (4.0)', 'producer': 'Adobe PDF Library 7.0', 'creationDate': \"D:20090908104936+10'00'\", 'modDate': \"D:20090908105009+10'00'\", 'trapped': ''}),\n",
       " Document(page_content='Assessment procedure and treatment options\\nimportant that you discuss with your health professional any treatment \\nyou have previously received or express your treatment preferences so \\nthat any treatment strategies entered into are personalised and most \\nappropriate for you. \\nThe journey to recovery can be different for each person. Treatment \\ntakes time to work effectively. For example, if medication is prescribed, \\nthe dose and type will vary according to the individual, as will the \\nnumber of sessions and content of cognitive behavioural therapy that \\nmay be needed.\\nThe diagram that follows shows the stages of getting professional \\nassessment and treatment for depression. Good treatment includes:\\n•  a thorough health and mental health assessment\\n•  information about the condition and its treatment\\n•  information about, and the opportunity to choose between, those \\nhealth professionals who are available to treat depression\\n•  referral to another professional or specialist if your condition \\nworsens or if treatment seems not to be working\\n•  providing information about the condition for your family, partner \\nor other carers\\n•  follow-up to give you the best chance of a good outcome (or \\nstaying well).\\n \\n13\\n12\\nAND/OR\\nAt your initial assessment you would typically be asked about:\\n• your symptoms and their effects on your life\\n• any previous episodes of depression\\n• any other medical or mental health problems\\n• pressures relevant to this episode of depression\\n• your family history\\n• your current supports and relationships\\nDepending on the outcome of the assessment, your GP or other health \\nprofessional are likely to recommend:\\neducation about depression, problem solving and lifestyle changes\\nInitial treatment:\\n• anti-depressant medicine\\n• counselling (Cognitive \\nBehavioural Therapy (CBT) \\nand Interpersonal Therapy \\n(IPT)) or both\\nIn general, your GP or other health professional will see you regularly. \\nInitially this would be every week or two, then every four to six weeks.  \\nThe purpose of the visits would be to review your progress and to discuss \\nany issues such as those related to:\\n• your symptoms\\n• any side effects of treatment\\n• any adjustments or changes to your treatment(s)\\n• how you are coping with stresses.\\nIf there is no improvement, or if depression worsens, your health \\nprofessional would typically discuss referring you to a psychiatrist, another \\nspecialist mental health professional or to a hospital for inpatient care.\\nFollow-up care is typically provided:\\n•  for one year for a first episode\\n•  for up to three years for two or more episodes including a booster \\nsession of CBT or IPT to maintain your wellbeing.\\nReferral to a psychiatrist or other \\nhealth professional or hospital\\n', metadata={'source': '/Users/misanmeggison/Downloads/AUS_Depression _consumer and carer tx guidelines.pdf', 'file_path': '/Users/misanmeggison/Downloads/AUS_Depression _consumer and carer tx guidelines.pdf', 'page': 7, 'total_pages': 17, 'format': 'PDF 1.4', 'title': '', 'author': '', 'subject': '', 'keywords': '', 'creator': 'Adobe InDesign CS2 (4.0)', 'producer': 'Adobe PDF Library 7.0', 'creationDate': \"D:20090908104936+10'00'\", 'modDate': \"D:20090908105009+10'00'\", 'trapped': ''}),\n",
       " Document(page_content='Getting treatment \\n \\n \\nWhatever the severity of a person’s depression, treatment should \\ninclude learning new strategies such as problem solving skills and \\nchanges to lifestyle such as cutting down on stress, increasing exercise \\nand physical fitness and not using alcohol or other drugs. If the \\ndepression is moderate to severe, then several main treatments can be \\nconsidered, anti-depressant medication and psychological therapy and \\nsometimes electroconvulsive therapy. \\n \\nMedication\\nDepression can change the way people respond to the world. It is \\ncurrently believed that depression involves changes in brain chemistry. \\nAnti-depressant medicines change the balance of chemicals in the \\nbrain. Each anti-depressant can work slightly differently and, as with \\nany medication, there may be side effects. The type of anti-depressant \\nprescribed and the possible side effects should be discussed with \\nyour health professional. There are many options with proven \\neffectiveness and a particular medicine can be selected to best meet \\nyour needs. Medications are effective for most people in improving \\ntheir symptoms, however, for some people medications do not work \\nadequately, in which case other treatments should be considered, \\noften in combination.\\nPsychological therapies\\nTalking with a health professional in a structured way has been shown \\nto help relieve depression. The therapist aims to work with you on the \\nway you react to circumstances and relationships. There are several \\npsychological therapies that can be used to treat depression. Two \\ntypes of therapy have been shown to be most effective: Cognitive \\nBehavioural Therapy (CBT) and Interpersonal Therapy (IPT). These \\ntherapies should be conducted by professionally trained staff for \\nthe best results. Some of these professionals might include clinical \\npsychologists, GPs who have had training in psychological therapies, \\npsychiatrists, social workers and other specialist mental health \\nprofessionals.\\nPhysical therapies\\nThere are several physical therapies that assist in the treatment of \\ndepression, including electroconvulsive therapy. Electroconvulsive \\ntherapy (ECT) is only used in certain circumstances, often when a \\nperson is experiencing severe major depression and the depression is \\nresistant to other forms of treatment. Potential use of ECT is always \\nfully discussed with those to whom it is recommended. Other forms \\nof physical therapy currently under further study but offering promise \\ninclude Transcranial Magnetic Stimulation (TMS) and Mild Brain \\nStimulation (MBS) also known as Direct Current Stimulation (DCS).\\nWhat will happen if I seek treatment?\\nIf you visit a GP or counsellor to seek help and treatment for \\ndepression, they will typically ask you questions about your symptoms, \\nyour life stressors and current supports, and some aspects of your \\npast history, such as whether you have had a previous episode of \\ndepression. After this assessment, they will typically provide you with \\ninformation about depression and discuss how you can best cope  \\nwith it. If you wish, they can also provide information for your family \\nor friends.\\n15\\n14\\n', metadata={'source': '/Users/misanmeggison/Downloads/AUS_Depression _consumer and carer tx guidelines.pdf', 'file_path': '/Users/misanmeggison/Downloads/AUS_Depression _consumer and carer tx guidelines.pdf', 'page': 8, 'total_pages': 17, 'format': 'PDF 1.4', 'title': '', 'author': '', 'subject': '', 'keywords': '', 'creator': 'Adobe InDesign CS2 (4.0)', 'producer': 'Adobe PDF Library 7.0', 'creationDate': \"D:20090908104936+10'00'\", 'modDate': \"D:20090908105009+10'00'\", 'trapped': ''}),\n",
       " Document(page_content='Depending on the severity of your depression, your GP or counsellor \\nmay recommend:\\n•  use of a medicine (e.g. an anti-depressant)\\n•  use of a specific psychological therapy (e.g. CBT or IPT)\\n•  a mix of both psychological therapy and medicine.\\nSometimes your GP may suggest you see a specialist (e.g. a psychiatrist \\nor another specialist mental health professional) if you need extra \\ntreatment, or recommend admission to hospital for a short period if \\nthe depression is severe or if there are concerns about your safety. \\nThere are a number of different psychological treatments that may \\nassist in the treatment of your depression.\\nFollowing the initial visit, you may wish to have at least weekly \\ncheck-ups with your GP, nurse, psychologist or counsellor (including \\nby telephone). Typically, your health professional will reassess your \\ndepression every six weeks for one year, or for three years if the \\ndepression is severe or if you have had depression before. These visits \\nare to check on your symptoms and changes in your circumstances \\nand to make any necessary adjustments in your treatment.\\nHow effective are different treatments?\\nThe table on page 18 summarises information on the most effective \\ntreatments for depression. With any type of treatment there are \\npotential risks and benefits which should be discussed fully with \\nyour health professional. Some common groups of medication are \\ndescribed briefly, although there are also others available. Many \\nother treatments have been studied but have been shown to be less \\neffective (e.g. vitamins, exercise).\\n17\\n16\\nChoosing between medications \\nWhile all these anti-depressants are equally effective in treating \\ndepression, like any medication, each may cause different side effects. \\nSide effects differ between the different types of anti-depressants \\n(TCAs, SSRIs, SNRIs) and, to a lesser extent, between different ones of \\nthe same type. It is important to discuss side effects with your doctor \\nwhen choosing a medication. You should also discuss any side effects \\nyou experience as your treatment progresses.\\nSSRIs are used most often, as they are less likely to cause side effects. \\nHowever, some people find they cause nausea, particularly in the \\nfirst week of treatment. Other side effects include difficulty going \\nto sleep, nervousness, headaches and sexual problems, particularly \\ndelayed orgasm. Rarely, they can cause diarrhoea. Very rarely, they \\ncan cause extreme agitation, jerky movements, a high temperature \\nand confusion – if this occurs, it is important to seek urgent medical \\nattention, as people with this ‘serotonin syndrome’ can become very  \\nill if they are not treated. This is more likely if SSRIs are combined  \\nwith certain other anti-depressants or some natural remedies, e.g.  \\nSt John’s Wort.\\nSide effects of SNRIs may include nausea, reduced appetite, headache, \\nsweating, rashes, agitation and sexual difficulties.\\nSide effects of TCAs include a dry mouth, blurred vision, constipation, \\ndifficulty urinating, sedation, sexual problems and weight gain. It is \\nnot a good idea to drink alcohol when depressed as it tends to worsen \\nthe depression and increase risk of suicide. Alcohol also interacts with \\nmany medications, e.g. TCAs, increasing sedation.\\nIf you are experiencing side effects, discuss them with your doctor. \\nIt may be possible to adjust the dose or change the medication to \\ncontrol them.\\n', metadata={'source': '/Users/misanmeggison/Downloads/AUS_Depression _consumer and carer tx guidelines.pdf', 'file_path': '/Users/misanmeggison/Downloads/AUS_Depression _consumer and carer tx guidelines.pdf', 'page': 9, 'total_pages': 17, 'format': 'PDF 1.4', 'title': '', 'author': '', 'subject': '', 'keywords': '', 'creator': 'Adobe InDesign CS2 (4.0)', 'producer': 'Adobe PDF Library 7.0', 'creationDate': \"D:20090908104936+10'00'\", 'modDate': \"D:20090908105009+10'00'\", 'trapped': ''}),\n",
       " Document(page_content='19\\n18\\nTreatment\\nIs there evidence \\nit’s effective?\\nWill it work for you?   \\nAre there risks or side effects  \\nor other considerations?\\nProblem solving therapy (PST) is a form of CBT that \\nlooks at how you solve problems, not the problem \\nitself\\nYes\\nMay be available in general practice \\nas part of the support for mild and \\nmoderate depression.\\nNot all GPs are trained in this treatment.\\nCognitive behavioural therapy (CBT) – there are \\nseveral versions of this form of psychological \\n(talking) therapy\\nYes\\nAs effective as anti-depressants for mild \\nto moderate depression. (May provide \\nskills to prevent relapse for all types of \\ndepression.)\\nThe effectiveness of the treatment may \\ndepend on the skill of the therapist. \\nInterpersonal therapy (IPT) – a particular form of \\npsychotherapy that follows a treatment manual\\nYes\\nAs effective as anti-depressants for mild \\nto moderate depression. (May provide \\nskills to prevent relapse for all types of \\ndepression.)\\nThe effectiveness of the treatment may \\ndepend on the skill of the therapist.\\nSelective serotonin reuptake inhibitor (SSRI) \\nanti-depressant medication (e.g. fluvoxamine, \\nfluoxetine, paroxetine, sertraline, citalopram, etc.)\\nYes\\nSome people feel agitated on SSRIs and \\nyou should tell your health practitioner \\nif this happens to you.\\nFrequent initial side effects include nausea, \\nheadache and insomnia, which usually \\nsettle.\\nSerotonin and noradrenaline reuptake inhibitor \\n(SNRI) anti-depressants, e.g. venlafaxine, \\ndesvenlafaxine, duloxetine\\nYes\\nParticularly useful when other \\ntreatments have been unsuccessful or \\nfor severe depression.\\nSide effects more similar to TCAs.\\nTricyclic anti-depressants (TCAs) (e.g. imipramine, \\nnortriptyline, etc.)\\nYes\\nThese are more likely to be used if the \\ndepression is severe and/or another \\ntreatment has not worked sufficiently.\\nSide effects more common than with SSRIs, \\nespecially early in treatment. Not suitable \\nwhen some medical conditions are present.\\nElectroconvulsive therapy (ECT)\\nYes, especially for \\nsevere depression\\nThe decision to undergo ECT requires \\ndetailed discussion with a specialist \\npsychiatrist to understand the risks  \\nand benefits.\\nNeed to be in hospital as treatment \\nrequires an anaesthetic. \\n', metadata={'source': '/Users/misanmeggison/Downloads/AUS_Depression _consumer and carer tx guidelines.pdf', 'file_path': '/Users/misanmeggison/Downloads/AUS_Depression _consumer and carer tx guidelines.pdf', 'page': 10, 'total_pages': 17, 'format': 'PDF 1.4', 'title': '', 'author': '', 'subject': '', 'keywords': '', 'creator': 'Adobe InDesign CS2 (4.0)', 'producer': 'Adobe PDF Library 7.0', 'creationDate': \"D:20090908104936+10'00'\", 'modDate': \"D:20090908105009+10'00'\", 'trapped': ''}),\n",
       " Document(page_content=' \\nAll medications must be taken as prescribed by your \\ndoctor. You can discuss adverse side effects and \\ninteractions with other medications with your doctor \\nor pharmacist.\\n \\nCultural needs \\nHealth professionals should always respect and cater for the wide \\ndiversity of cultural groups in our community. Depending on your \\ncultural background or religious beliefs, when you are seeking \\ntreatment, or helping a person you care for get treatment, you may \\nhave special requirements that you need to communicate to the health \\nprofessionals you encounter. You may need to request: \\n•  a translator if your first language or that of the person you care \\nfor is not English \\n•  explanations of medical or other terms that may not be clear \\n•  respect for your religious practices and understanding of the roles \\nof males and females in your culture\\n•  treatment provided in a particular setting (you may have a cultural \\npreference for home or hospital treatment)\\n• \\nspecial food or access to a prayer room if you need to go\\n \\nto hospital\\n•  understanding of your family’s expectations of treatment.\\nIt is very important to discuss cultural issues with your health care \\nprovider to enable them to better understand you and so that your \\nreligious beliefs and cultural practices can be incorporated into your \\ntreatment plan.\\nWhat does treatment cost?\\nIt is important to discuss all potential costs involved in your treatment \\nwith your health professional. \\nIn Australia, some GPs bulk bill, which means that Medicare will cover \\nthe full cost of any visit. If your GP does not bulk bill, partial rebates are \\navailable through Medicare and you will need to pay any difference. \\nThere will also be an additional cost for any medication that may be \\nprescribed.   \\nYour GP may refer you to appropriate services, such as for psychological \\nservices provided by a psychologist or an appropriately trained social \\nworker or occupational therapist. Any treatment provided by these \\nhealth professionals will only be rebated by Medicare if you have \\npreviously claimed a rebate for a GP Mental Health Treatment Plan. A GP \\nMental Health Treatment Plan will be developed by your GP and tailored \\nto your needs to find the treatment that is right for you, monitor your \\nprogress and assist you in achieving your goals for recovery. \\nMedicare rebates are also available for assessment and treatment by a \\npsychiatrist. A psychiatrist may also refer you for Medicare-subsidised \\ntreatment with a psychologist, an appropriately trained social worker or \\noccupational therapist. You may receive up to 12 individual/and or group \\ntherapy sessions in a year. An additional six individual sessions may be \\navailable in exceptional circumstances. \\nYour GP may also refer you to other government funded providers  \\nof psychological services depending on what is available in your  \\nlocal area.\\nWhile large out of pocket costs may discourage people from getting \\nprofessional help, treatment for depression can help you get better  \\nfaster, give you the skills to recognise depression early and possibly \\nprevent depression recurring in the future. The cost of not getting \\ntreatment is significant.\\n21\\n20\\n', metadata={'source': '/Users/misanmeggison/Downloads/AUS_Depression _consumer and carer tx guidelines.pdf', 'file_path': '/Users/misanmeggison/Downloads/AUS_Depression _consumer and carer tx guidelines.pdf', 'page': 11, 'total_pages': 17, 'format': 'PDF 1.4', 'title': '', 'author': '', 'subject': '', 'keywords': '', 'creator': 'Adobe InDesign CS2 (4.0)', 'producer': 'Adobe PDF Library 7.0', 'creationDate': \"D:20090908104936+10'00'\", 'modDate': \"D:20090908105009+10'00'\", 'trapped': ''}),\n",
       " Document(page_content='What can I do to assist with treatment?\\nResearch has shown that you can achieve the best outcome from \\ntreatment if you are able to:\\n•  develop a trusting relationship with your health professional and \\nwork together to find a suitable treatment\\n•  identify and work on resolving or addressing factors that appear to \\nhave contributed to the depression\\n•  incorporate behavioural and lifestyle changes\\n•  continue with treatment for as long as is necessary to deal with the \\nissues that are causing your depression and to make sure that your \\nmood remains stable afterwards without risk of relapse (at least \\none year, but up to two to three years if there has been previous \\ndepression or there are significant risks that it will occur again).\\nInvolve your family, partner or carer in treatment and in developing and \\nmanaging your care plan for added support.\\nThese factors are more important than the relatively small differences \\nbetween the treatments outlined on page 18.\\nOther support during recovery from \\ndepression\\nMaking and maintaining good friendships is very important in recovery from \\ndepression. Make the most of family, friends and local community groups. \\nTry not to become isolated. There are also groups run by people who have \\nexperienced a mental illness and who have had successful treatment. \\nThese include self-help and mutual support groups or associations, and \\nmental health consumer organisations. Such organisations may run mutual \\nsupport by telephone or in groups that meet face to face. Some offer \\nwebsite chat rooms. Others provide formal information and referral services \\nfor personal support, postal or telephone information for you or for your \\nfamily or partner, and some may suggest clinics, after-hours crisis lines and \\ninformation about the treatments available. While not directly treatment \\nservices, these organisations may be helpful when you are trying to find the \\nright treatment for you, and may make it easier to remain in treatment to \\nget the best results (see Appendix 1).\\nCutting out alcohol, cannabis or other drug use, and keeping to a routine \\nwith sleep and regular exercise can also be very beneficial.\\n23\\n22\\n', metadata={'source': '/Users/misanmeggison/Downloads/AUS_Depression _consumer and carer tx guidelines.pdf', 'file_path': '/Users/misanmeggison/Downloads/AUS_Depression _consumer and carer tx guidelines.pdf', 'page': 12, 'total_pages': 17, 'format': 'PDF 1.4', 'title': '', 'author': '', 'subject': '', 'keywords': '', 'creator': 'Adobe InDesign CS2 (4.0)', 'producer': 'Adobe PDF Library 7.0', 'creationDate': \"D:20090908104936+10'00'\", 'modDate': \"D:20090908105009+10'00'\", 'trapped': ''}),\n",
       " Document(page_content='Appendix 1 \\n \\n \\nSources of information and support?\\nIf you wish to talk to someone about depression, the most useful \\ninitial contact is your GP or local mental health service.\\nTo find out what mental health services are available in your area look \\nin the Emergency Health and Help section of your local phone books \\nor contact Lifeline’s Information Service on 13 11 14.\\nIf you need to talk to someone urgently please call:\\nLifeline: 13 11 14\\nKids Helpline: 1800 55 1800\\nSuicide line (VIC) : 1300 651 251 (a helpline for people calling  \\nwithin Victoria)\\nThe list of organisations and information sources provided in this \\nAppendix, whilst not exhaustive, may further support you in learning \\nabout and managing depression. Inclusion of these organisations \\nand information sources does not imply RANZCP endorsement \\nbut rather aims to help people find information and to encourage \\ncommunication about mental illness. \\nThese organisations and resources are not intended as a replacement \\nfor formal treatment but as an adjunct to it. If you are unsure about \\nany of the information you find or would like to know if a treatment \\nyou read about may be appropriate for you, you should speak with \\nyour mental health care professional. \\nUseful websites\\nOrganisation\\nWebsite\\nWhat is the website useful for?\\nbeyondblue\\nwww.beyondblue.org.au\\nInformation on depression, anxiety  \\nand bipolar disorder.\\nYouth- \\nbeyondblue\\nwww.youthbeyondblue.com\\nbeyondblue’s youth website providing \\ninformation on depression and anxiety.\\nThe Black Dog \\nInstitute\\nwww.blackdoginstitute. \\norg.au\\nSpecialist information on depression and \\nbipolar disorder.\\nDepression  \\nServices.org.au\\nwww.depressionservices.\\norg.au\\nInformation and online forums with 24 \\nhour peer support and moderation for \\npeople living with depression.\\nheadspace\\nwww.headspace.org.au\\nInformation and advice regarding mental \\nhealth problems and where young  \\npeople can find help and support.\\nSANE Australia\\nwww.sane.org\\nInformation on mental health including \\nfactsheets; also includes an online \\nhelpline.\\nBlue Pages \\nInformation on \\nDepression\\nwww.bluepages.anu.edu.au\\nScientific evidence on interventions for \\ndepression and consumer perspectives  \\nand understanding.\\nBlueBoard\\nwww.blueboard.anu.edu.au\\nPart of BluePages, this website is a \\nmoderated online community for people \\nsuffering, or people who think they might \\nbe suffering, from depression or anxiety, \\ntheir friends and carers.\\nReach Out\\nwww.reachout.com.au \\nYouth information portal on mental health.\\nitsallright.org\\nwww.itsallright.org\\nWebsite for young people dealing with \\nmental illness in their family.\\nMoodGYM\\nmoodgym.anu.edu.au  \\nOnline program delivering CBT.\\nAPPENDICES\\n25\\n24\\n', metadata={'source': '/Users/misanmeggison/Downloads/AUS_Depression _consumer and carer tx guidelines.pdf', 'file_path': '/Users/misanmeggison/Downloads/AUS_Depression _consumer and carer tx guidelines.pdf', 'page': 13, 'total_pages': 17, 'format': 'PDF 1.4', 'title': '', 'author': '', 'subject': '', 'keywords': '', 'creator': 'Adobe InDesign CS2 (4.0)', 'producer': 'Adobe PDF Library 7.0', 'creationDate': \"D:20090908104936+10'00'\", 'modDate': \"D:20090908105009+10'00'\", 'trapped': ''}),\n",
       " Document(page_content='Appendix 2 \\n \\n \\nAcronyms \\nCBT \\nCognitive Behavioural Therapy\\nDCS \\nDirect Current Stimulation\\nECT \\nElectroconvulsive Therapy \\nGP \\nGeneral Practitioner\\nIPT \\nInterpersonal Therapy\\nMBS \\nMild Brain Stimulation\\nSNRI \\nSerotonin and Noradrenaline Reuptake Inhibitor\\nSSRI \\nSelective Serotonin Reuptake Inhibitor\\nTCA \\nTricyclic Anti-depressants\\nTMS \\nTranscranial Magnetic Stimulation\\nAppendix 3 \\n \\n \\nDevelopment of the guideline \\nThis guide is a research-based clinical practice guideline based on a \\nthorough review of the medical and related literature. It was written in \\nassociation with people who have depression and those working  \\nwith them. \\nIn 2009, the content of this guide was revised and expanded by an \\nexpert advisory panel comprising mental health professionals, and \\nconsumer and carer representatives. The purpose of the revision was \\nto ensure the information contained in the booklet was current and \\ncomprehensive in terms of treatment best-practice and therefore \\nremained relevant for people with depression and their carers, families, \\nand friends. \\nAuthors\\nThe authors of the original edition were:\\nSuzy Stevens, Don Smith, Pete Ellis\\nThe expert advisory panel for the May 2009 revision comprised:\\nProfessor Ian Hickie - Brain & Mind Research Institute, University  \\nof Sydney\\nDr Lisa Juckes - Psychiatrist, Sydney\\nMs Wanda Bennetts - Consumer Consultant\\nMs Toni Garretty - Carer Consultant, Area Family & Carer Program \\nDevelopment Coordinator, South Eastern Sydney & Illawarra Area \\nHealth Service\\nAPPENDICES\\n27\\n26\\n', metadata={'source': '/Users/misanmeggison/Downloads/AUS_Depression _consumer and carer tx guidelines.pdf', 'file_path': '/Users/misanmeggison/Downloads/AUS_Depression _consumer and carer tx guidelines.pdf', 'page': 14, 'total_pages': 17, 'format': 'PDF 1.4', 'title': '', 'author': '', 'subject': '', 'keywords': '', 'creator': 'Adobe InDesign CS2 (4.0)', 'producer': 'Adobe PDF Library 7.0', 'creationDate': \"D:20090908104936+10'00'\", 'modDate': \"D:20090908105009+10'00'\", 'trapped': ''}),\n",
       " Document(page_content='25\\n28\\nQuality Statement\\nThe original edition of this guide was consulted upon bi-nationally \\nand drafts were available for comment on www.ranzcp.org. It was \\nappraised using DISCERN by a national workshop of consumer \\nconsultants and meets NHMRC criteria for presenting information \\non treatments for consumers. The 2009 revision sought to maintain \\nthe integrity of this process by incorporating updated information \\nsupported by research findings published in recent medical and other \\nscientific literature.\\nAcknowledgements\\nThe project to develop and print the original version of this booklet \\nwas commissioned by The Royal Australian and New Zealand College \\nof Psychiatrists and was funded by Australia’s National Mental Health \\nStrategy, Commonwealth Department of Health and Ageing, and the \\nNew Zealand Ministry of Health.\\nThe 2009 revision and reprint was undertaken with funding provided \\nby the Commonwealth Department of Health and Ageing. \\n', metadata={'source': '/Users/misanmeggison/Downloads/AUS_Depression _consumer and carer tx guidelines.pdf', 'file_path': '/Users/misanmeggison/Downloads/AUS_Depression _consumer and carer tx guidelines.pdf', 'page': 15, 'total_pages': 17, 'format': 'PDF 1.4', 'title': '', 'author': '', 'subject': '', 'keywords': '', 'creator': 'Adobe InDesign CS2 (4.0)', 'producer': 'Adobe PDF Library 7.0', 'creationDate': \"D:20090908104936+10'00'\", 'modDate': \"D:20090908105009+10'00'\", 'trapped': ''}),\n",
       " Document(page_content='', metadata={'source': '/Users/misanmeggison/Downloads/AUS_Depression _consumer and carer tx guidelines.pdf', 'file_path': '/Users/misanmeggison/Downloads/AUS_Depression _consumer and carer tx guidelines.pdf', 'page': 16, 'total_pages': 17, 'format': 'PDF 1.4', 'title': '', 'author': '', 'subject': '', 'keywords': '', 'creator': 'Adobe InDesign CS2 (4.0)', 'producer': 'Adobe PDF Library 7.0', 'creationDate': \"D:20090908104936+10'00'\", 'modDate': \"D:20090908105009+10'00'\", 'trapped': ''})]"
      ]
     },
     "execution_count": 22,
     "metadata": {},
     "output_type": "execute_result"
    }
   ],
   "source": [
    "from langchain_community.embeddings import HuggingFaceEmbeddings\n",
    "from langchain.retrievers import ParentDocumentRetriever\n",
    "from langchain.storage import InMemoryStore\n",
    "from langchain_community.vectorstores import Chroma\n",
    "from langchain_text_splitters import RecursiveCharacterTextSplitter\n",
    "from langchain_community.document_loaders import PyMuPDFLoader\n",
    "\n",
    "file_path = ['/Users/misanmeggison/Downloads/DepressionGuide-web.pdf', '/Users/misanmeggison/Downloads/AUS_Depression _consumer and carer tx guidelines.pdf']\n",
    "\n",
    "for file in file_path:\n",
    "    loader = PyMuPDFLoader(file)\n",
    "    documents = loader.load()\n",
    "\n",
    "documents\n"
   ]
  },
  {
   "cell_type": "code",
   "execution_count": 45,
   "metadata": {},
   "outputs": [],
   "source": [
    "from langchain_community.embeddings import HuggingFaceEmbeddings\n",
    "from langchain.retrievers import ParentDocumentRetriever\n",
    "from langchain.storage import InMemoryStore\n",
    "from langchain_community.vectorstores import Chroma\n",
    "from langchain_text_splitters import RecursiveCharacterTextSplitter\n",
    "from langchain_community.document_loaders import PyMuPDFLoader\n",
    "\n",
    "loader = PyMuPDFLoader(\"/Users/misanmeggison/Downloads/DepressionGuide-web.pdf\")\n",
    "\n",
    "documents = loader.load()\n",
    "\n",
    "parent_splitter = RecursiveCharacterTextSplitter(chunk_size=2000)\n",
    "child_splitter = RecursiveCharacterTextSplitter(chunk_size=500)\n",
    "\n",
    "# Initialize the embedding model\n",
    "embeddings_model = HuggingFaceEmbeddings(model_name=\"all-MiniLM-L6-v2\")\n",
    "\n",
    "# Function to create embeddings\n",
    "def create_embeddings(text_chunks):\n",
    "    embeddings = embeddings_model.encode(text_chunks, show_progress_bar=True)\n",
    "    return embeddings\n",
    "\n",
    "# This text splitter is used to create the parent documents\n",
    "parent_splitter = RecursiveCharacterTextSplitter(chunk_size=2000)\n",
    "\n",
    "# This text splitter is used to create the child documents\n",
    "# It should create documents smaller than the parent\n",
    "\n",
    "child_splitter = RecursiveCharacterTextSplitter(chunk_size=400)\n",
    "# The vectorstore to use to index the child chunks\n",
    "vectorstore = Chroma(\n",
    "    collection_name=\"split_parents\", embedding_function=embeddings_model\n",
    ")\n",
    "# The storage layer for the parent documents\n",
    "store = InMemoryStore()\n",
    "\n",
    "def rag_retriever(vectorstore, store, parent_splitter, child_splitter):\n",
    "\n",
    "    retriever = ParentDocumentRetriever(\n",
    "        vectorstore=vectorstore,\n",
    "        docstore=store,\n",
    "        child_splitter=child_splitter,\n",
    "        parent_splitter=parent_splitter,\n",
    "    )\n",
    "\n",
    "    retriever.add_documents(documents)\n",
    "\n",
    "    return retriever\n",
    "\n",
    "\n",
    "def retrieve_context(query, top_k):\n",
    "\n",
    "    # Retrieve the top k similar documents\n",
    "    sub_docs = vectorstore.similarity_search(query, k=top_k, return_documents=True)\n",
    "\n",
    "    # Get the context of the first document\n",
    "    context = sub_docs[0].page_content\n",
    "\n",
    "    return context"
   ]
  },
  {
   "cell_type": "code",
   "execution_count": 46,
   "metadata": {},
   "outputs": [],
   "source": [
    "retriever = rag_retriever(vectorstore, store, parent_splitter, child_splitter)"
   ]
  },
  {
   "cell_type": "code",
   "execution_count": 48,
   "metadata": {},
   "outputs": [
    {
     "data": {
      "text/plain": [
       "60"
      ]
     },
     "execution_count": 48,
     "metadata": {},
     "output_type": "execute_result"
    }
   ],
   "source": [
    "loader = PyMuPDFLoader(\"/Users/misanmeggison/Downloads/AUS_Depression _consumer and carer tx guidelines.pdf\")\n",
    "\n",
    "docs = loader.load()\n",
    "\n",
    "\n",
    "retriever.add_documents(docs, ids=None)\n",
    "\n",
    "len(list(store.yield_keys()))"
   ]
  },
  {
   "cell_type": "code",
   "execution_count": 49,
   "metadata": {},
   "outputs": [
    {
     "data": {
      "text/plain": [
       "[Document(page_content='Organisation\\nWebsite\\nWhat is the website useful for?\\nbeyondblue\\nwww.beyondblue.org.au\\nInformation on depression, anxiety  \\nand bipolar disorder.\\nYouth- \\nbeyondblue\\nwww.youthbeyondblue.com\\nbeyondblue’s youth website providing \\ninformation on depression and anxiety.\\nThe Black Dog \\nInstitute\\nwww.blackdoginstitute. \\norg.au\\nSpecialist information on depression and \\nbipolar disorder.\\nDepression', metadata={'author': '', 'creationDate': \"D:20090908104936+10'00'\", 'creator': 'Adobe InDesign CS2 (4.0)', 'doc_id': '4e1c981e-7a7d-4f87-81f7-ef9588a36982', 'file_path': '/Users/misanmeggison/Downloads/AUS_Depression _consumer and carer tx guidelines.pdf', 'format': 'PDF 1.4', 'keywords': '', 'modDate': \"D:20090908105009+10'00'\", 'page': 13, 'producer': 'Adobe PDF Library 7.0', 'source': '/Users/misanmeggison/Downloads/AUS_Depression _consumer and carer tx guidelines.pdf', 'subject': '', 'title': '', 'total_pages': 17, 'trapped': ''}),\n",
       " Document(page_content='Organisation\\nWebsite\\nWhat is the website useful for?\\nbeyondblue\\nwww.beyondblue.org.au\\nInformation on depression, anxiety  \\nand bipolar disorder.\\nYouth- \\nbeyondblue\\nwww.youthbeyondblue.com\\nbeyondblue’s youth website providing \\ninformation on depression and anxiety.\\nThe Black Dog \\nInstitute\\nwww.blackdoginstitute. \\norg.au\\nSpecialist information on depression and \\nbipolar disorder.\\nDepression', metadata={'author': '', 'creationDate': \"D:20090908104936+10'00'\", 'creator': 'Adobe InDesign CS2 (4.0)', 'doc_id': '65e81393-253a-484e-aa3b-ec7bd2543a58', 'file_path': '/Users/misanmeggison/Downloads/AUS_Depression _consumer and carer tx guidelines.pdf', 'format': 'PDF 1.4', 'keywords': '', 'modDate': \"D:20090908105009+10'00'\", 'page': 13, 'producer': 'Adobe PDF Library 7.0', 'source': '/Users/misanmeggison/Downloads/AUS_Depression _consumer and carer tx guidelines.pdf', 'subject': '', 'title': '', 'total_pages': 17, 'trapped': ''}),\n",
       " Document(page_content='Organisation\\nWebsite\\nWhat is the website useful for?\\nbeyondblue\\nwww.beyondblue.org.au\\nInformation on depression, anxiety  \\nand bipolar disorder.\\nYouth- \\nbeyondblue\\nwww.youthbeyondblue.com\\nbeyondblue’s youth website providing \\ninformation on depression and anxiety.\\nThe Black Dog \\nInstitute\\nwww.blackdoginstitute. \\norg.au\\nSpecialist information on depression and \\nbipolar disorder.\\nDepression', metadata={'author': '', 'creationDate': \"D:20090908104936+10'00'\", 'creator': 'Adobe InDesign CS2 (4.0)', 'doc_id': 'c7928a1d-bd03-4791-aefe-38f6cf54e508', 'file_path': '/Users/misanmeggison/Downloads/AUS_Depression _consumer and carer tx guidelines.pdf', 'format': 'PDF 1.4', 'keywords': '', 'modDate': \"D:20090908105009+10'00'\", 'page': 13, 'producer': 'Adobe PDF Library 7.0', 'source': '/Users/misanmeggison/Downloads/AUS_Depression _consumer and carer tx guidelines.pdf', 'subject': '', 'title': '', 'total_pages': 17, 'trapped': ''}),\n",
       " Document(page_content='Organisation\\nWebsite\\nWhat is the website useful for?\\nbeyondblue\\nwww.beyondblue.org.au\\nInformation on depression, anxiety  \\nand bipolar disorder.\\nYouth- \\nbeyondblue\\nwww.youthbeyondblue.com\\nbeyondblue’s youth website providing \\ninformation on depression and anxiety.\\nThe Black Dog \\nInstitute\\nwww.blackdoginstitute. \\norg.au\\nSpecialist information on depression and \\nbipolar disorder.\\nDepression', metadata={'author': '', 'creationDate': \"D:20090908104936+10'00'\", 'creator': 'Adobe InDesign CS2 (4.0)', 'doc_id': '52756556-3c20-4081-b581-a09b04ee8af4', 'file_path': '/Users/misanmeggison/Downloads/AUS_Depression _consumer and carer tx guidelines.pdf', 'format': 'PDF 1.4', 'keywords': '', 'modDate': \"D:20090908105009+10'00'\", 'page': 13, 'producer': 'Adobe PDF Library 7.0', 'source': '/Users/misanmeggison/Downloads/AUS_Depression _consumer and carer tx guidelines.pdf', 'subject': '', 'title': '', 'total_pages': 17, 'trapped': ''}),\n",
       " Document(page_content='Information on mental health including \\nfactsheets; also includes an online \\nhelpline.\\nBlue Pages \\nInformation on \\nDepression\\nwww.bluepages.anu.edu.au\\nScientific evidence on interventions for \\ndepression and consumer perspectives  \\nand understanding.\\nBlueBoard\\nwww.blueboard.anu.edu.au\\nPart of BluePages, this website is a \\nmoderated online community for people', metadata={'author': '', 'creationDate': \"D:20090908104936+10'00'\", 'creator': 'Adobe InDesign CS2 (4.0)', 'doc_id': '3dea249b-f50d-4b0a-9320-171bff5cd5c8', 'file_path': '/Users/misanmeggison/Downloads/AUS_Depression _consumer and carer tx guidelines.pdf', 'format': 'PDF 1.4', 'keywords': '', 'modDate': \"D:20090908105009+10'00'\", 'page': 13, 'producer': 'Adobe PDF Library 7.0', 'source': '/Users/misanmeggison/Downloads/AUS_Depression _consumer and carer tx guidelines.pdf', 'subject': '', 'title': '', 'total_pages': 17, 'trapped': ''}),\n",
       " Document(page_content='Information on mental health including \\nfactsheets; also includes an online \\nhelpline.\\nBlue Pages \\nInformation on \\nDepression\\nwww.bluepages.anu.edu.au\\nScientific evidence on interventions for \\ndepression and consumer perspectives  \\nand understanding.\\nBlueBoard\\nwww.blueboard.anu.edu.au\\nPart of BluePages, this website is a \\nmoderated online community for people', metadata={'author': '', 'creationDate': \"D:20090908104936+10'00'\", 'creator': 'Adobe InDesign CS2 (4.0)', 'doc_id': '8947f172-9fb8-4da0-8ed5-8c551e244327', 'file_path': '/Users/misanmeggison/Downloads/AUS_Depression _consumer and carer tx guidelines.pdf', 'format': 'PDF 1.4', 'keywords': '', 'modDate': \"D:20090908105009+10'00'\", 'page': 13, 'producer': 'Adobe PDF Library 7.0', 'source': '/Users/misanmeggison/Downloads/AUS_Depression _consumer and carer tx guidelines.pdf', 'subject': '', 'title': '', 'total_pages': 17, 'trapped': ''}),\n",
       " Document(page_content='Information on mental health including \\nfactsheets; also includes an online \\nhelpline.\\nBlue Pages \\nInformation on \\nDepression\\nwww.bluepages.anu.edu.au\\nScientific evidence on interventions for \\ndepression and consumer perspectives  \\nand understanding.\\nBlueBoard\\nwww.blueboard.anu.edu.au\\nPart of BluePages, this website is a \\nmoderated online community for people', metadata={'author': '', 'creationDate': \"D:20090908104936+10'00'\", 'creator': 'Adobe InDesign CS2 (4.0)', 'doc_id': '6c76fc70-aecb-4413-b623-f8486b0e4fe7', 'file_path': '/Users/misanmeggison/Downloads/AUS_Depression _consumer and carer tx guidelines.pdf', 'format': 'PDF 1.4', 'keywords': '', 'modDate': \"D:20090908105009+10'00'\", 'page': 13, 'producer': 'Adobe PDF Library 7.0', 'source': '/Users/misanmeggison/Downloads/AUS_Depression _consumer and carer tx guidelines.pdf', 'subject': '', 'title': '', 'total_pages': 17, 'trapped': ''}),\n",
       " Document(page_content='Information on mental health including \\nfactsheets; also includes an online \\nhelpline.\\nBlue Pages \\nInformation on \\nDepression\\nwww.bluepages.anu.edu.au\\nScientific evidence on interventions for \\ndepression and consumer perspectives  \\nand understanding.\\nBlueBoard\\nwww.blueboard.anu.edu.au\\nPart of BluePages, this website is a \\nmoderated online community for people', metadata={'author': '', 'creationDate': \"D:20090908104936+10'00'\", 'creator': 'Adobe InDesign CS2 (4.0)', 'doc_id': '354d505e-18ec-4e3b-b2f9-2ea3d55495c0', 'file_path': '/Users/misanmeggison/Downloads/AUS_Depression _consumer and carer tx guidelines.pdf', 'format': 'PDF 1.4', 'keywords': '', 'modDate': \"D:20090908105009+10'00'\", 'page': 13, 'producer': 'Adobe PDF Library 7.0', 'source': '/Users/misanmeggison/Downloads/AUS_Depression _consumer and carer tx guidelines.pdf', 'subject': '', 'title': '', 'total_pages': 17, 'trapped': ''})]"
      ]
     },
     "execution_count": 49,
     "metadata": {},
     "output_type": "execute_result"
    }
   ],
   "source": [
    "sub_docs = vectorstore.similarity_search(\"Useful websites\", k=8)\n",
    "\n",
    "sub_docs"
   ]
  },
  {
   "cell_type": "code",
   "execution_count": 5,
   "metadata": {},
   "outputs": [
    {
     "data": {
      "text/plain": [
       "33"
      ]
     },
     "execution_count": 5,
     "metadata": {},
     "output_type": "execute_result"
    }
   ],
   "source": [
    "len(list(store.yield_keys()))\n"
   ]
  },
  {
   "cell_type": "code",
   "execution_count": 6,
   "metadata": {},
   "outputs": [
    {
     "name": "stdout",
     "output_type": "stream",
     "text": [
      "attention to any signs of increased anxiety, \n",
      "agitation, aggression, or impulsivity. \n",
      "Parents should also check their children \n",
      "for involuntary restlessness or unexplained \n",
      "happiness or energy accompanied by fast, \n",
      "driven speech, and unrealistic plans or \n",
      "goals. These reactions are more common \n",
      "at the start of treatment, but they can \n",
      "occur at any time during treatment. If your\n"
     ]
    }
   ],
   "source": [
    "sub_docs = vectorstore.similarity_search(\"anxiety\")\n",
    "\n",
    "print(sub_docs[0].page_content)"
   ]
  },
  {
   "cell_type": "code",
   "execution_count": 7,
   "metadata": {},
   "outputs": [
    {
     "name": "stdout",
     "output_type": "stream",
     "text": [
      "<class 'str'>\n",
      "1470\n",
      "4       Depression: Parents’ Medication Guide\n",
      "Introduction\n",
      "T\n",
      "he original Parents Medical Guide on \n",
      "treating depression was published in \n",
      "2005, and a revision was published in \n",
      "2010, through collaboration by the American \n",
      "Academy of Child and Adolescent Psychiatry \n",
      "(AACAP) and the American Psychiatric \n",
      "Association (APA). The current revision has \n",
      "been updated to include new research on \n",
      "effective treatments for child and adolescent \n",
      "depression. The goal of this guide is to help \n",
      "parents make informed decisions about \n",
      "getting the best care for a child or adolescent \n",
      "with depression.\n",
      "What is depression?\n",
      "Depression is a serious illness that can affect \n",
      "almost every part of a young person’s life \n",
      "and significantly impact his or her family. \n",
      "Depression is a type of mood disorder that can \n",
      "damage relationships among family members \n",
      "and friends, harm school performance, \n",
      "and limit other educational opportunities. \n",
      "Depression can negatively affect eating, \n",
      "sleeping, and physical activity. Because it \n",
      "can result in so many health problems, it is \n",
      "important to recognize the signs of depression \n",
      "and get the right treatment. When depression \n",
      "is treated successfully, most children can get \n",
      "back on track with their lives.\n",
      "Although depression can occur in young \n",
      "children, it is much more common in \n",
      "adolescents (youth ages 12–18 years). \n",
      "Depression before children reach puberty \n",
      "occurs equally in boys and girls. After puberty, \n",
      "depression is more common in girls.\n"
     ]
    }
   ],
   "source": [
    "retrieved_docs = retriever.get_relevant_documents(\"depression\")\n",
    "\n",
    "print(type(retrieved_docs[0].page_content))\n",
    "print(len(retrieved_docs[0].page_content))\n",
    "print(retrieved_docs[0].page_content)"
   ]
  },
  {
   "cell_type": "code",
   "execution_count": 8,
   "metadata": {},
   "outputs": [
    {
     "name": "stderr",
     "output_type": "stream",
     "text": [
      "Repo card metadata block was not found. Setting CardData to empty.\n"
     ]
    }
   ],
   "source": [
    "import pandas as pd\n",
    "from datasets import load_dataset\n",
    "\n",
    "dataset = load_dataset(\"nbertagnolli/counsel-chat\")\n",
    "mental_care_df = pd.DataFrame(dataset[\"train\"])"
   ]
  },
  {
   "cell_type": "code",
   "execution_count": 9,
   "metadata": {},
   "outputs": [],
   "source": [
    "# Drop the columns that are not needed\n",
    "mental_care_df = mental_care_df[['questionTitle', 'answerText']]"
   ]
  },
  {
   "cell_type": "code",
   "execution_count": 10,
   "metadata": {},
   "outputs": [
    {
     "data": {
      "text/plain": [
       "(2775, 2)"
      ]
     },
     "execution_count": 10,
     "metadata": {},
     "output_type": "execute_result"
    }
   ],
   "source": [
    "# Rename Columns\n",
    "mental_care_df = mental_care_df.rename(columns={'questionTitle': 'Context', 'answerText': 'Response'})\n",
    "\n",
    "mental_care_df.shape"
   ]
  },
  {
   "cell_type": "code",
   "execution_count": 11,
   "metadata": {},
   "outputs": [],
   "source": [
    "from datasets import load_dataset\n",
    "\n",
    "dataset = load_dataset(\"Amod/mental_health_counseling_conversations\")\n",
    "\n",
    "mental_chat_df = pd.DataFrame(dataset[\"train\"])"
   ]
  },
  {
   "cell_type": "code",
   "execution_count": 12,
   "metadata": {},
   "outputs": [
    {
     "data": {
      "text/plain": [
       "(3512, 2)"
      ]
     },
     "execution_count": 12,
     "metadata": {},
     "output_type": "execute_result"
    }
   ],
   "source": [
    "mental_chat_df.shape"
   ]
  },
  {
   "cell_type": "code",
   "execution_count": 13,
   "metadata": {},
   "outputs": [
    {
     "name": "stdout",
     "output_type": "stream",
     "text": [
      "(6287, 2)\n"
     ]
    },
    {
     "data": {
      "text/html": [
       "<div>\n",
       "<style scoped>\n",
       "    .dataframe tbody tr th:only-of-type {\n",
       "        vertical-align: middle;\n",
       "    }\n",
       "\n",
       "    .dataframe tbody tr th {\n",
       "        vertical-align: top;\n",
       "    }\n",
       "\n",
       "    .dataframe thead th {\n",
       "        text-align: right;\n",
       "    }\n",
       "</style>\n",
       "<table border=\"1\" class=\"dataframe\">\n",
       "  <thead>\n",
       "    <tr style=\"text-align: right;\">\n",
       "      <th></th>\n",
       "      <th>Context</th>\n",
       "      <th>Response</th>\n",
       "    </tr>\n",
       "  </thead>\n",
       "  <tbody>\n",
       "    <tr>\n",
       "      <th>6282</th>\n",
       "      <td>My grandson's step-mother sends him to school ...</td>\n",
       "      <td>Absolutely not! It is never in a child's best ...</td>\n",
       "    </tr>\n",
       "    <tr>\n",
       "      <th>6283</th>\n",
       "      <td>My boyfriend is in recovery from drug addictio...</td>\n",
       "      <td>I'm sorry you have tension between you and you...</td>\n",
       "    </tr>\n",
       "    <tr>\n",
       "      <th>6284</th>\n",
       "      <td>The birth mother attempted suicide several tim...</td>\n",
       "      <td>The true answer is, \"no one can really say wit...</td>\n",
       "    </tr>\n",
       "    <tr>\n",
       "      <th>6285</th>\n",
       "      <td>I think adult life is making him depressed and...</td>\n",
       "      <td>How do you help yourself to believe you requir...</td>\n",
       "    </tr>\n",
       "    <tr>\n",
       "      <th>6286</th>\n",
       "      <td>I just took a job that requires me to travel f...</td>\n",
       "      <td>hmm this is a tough one!</td>\n",
       "    </tr>\n",
       "  </tbody>\n",
       "</table>\n",
       "</div>"
      ],
      "text/plain": [
       "                                                Context  \\\n",
       "6282  My grandson's step-mother sends him to school ...   \n",
       "6283  My boyfriend is in recovery from drug addictio...   \n",
       "6284  The birth mother attempted suicide several tim...   \n",
       "6285  I think adult life is making him depressed and...   \n",
       "6286  I just took a job that requires me to travel f...   \n",
       "\n",
       "                                               Response  \n",
       "6282  Absolutely not! It is never in a child's best ...  \n",
       "6283  I'm sorry you have tension between you and you...  \n",
       "6284  The true answer is, \"no one can really say wit...  \n",
       "6285  How do you help yourself to believe you requir...  \n",
       "6286                           hmm this is a tough one!  "
      ]
     },
     "execution_count": 13,
     "metadata": {},
     "output_type": "execute_result"
    }
   ],
   "source": [
    "# Append the one dataset to the other\n",
    "mental_care_df = pd.concat([mental_care_df, mental_chat_df], ignore_index=True)\n",
    "\n",
    "print(mental_care_df.shape)\n",
    "mental_care_df.tail()"
   ]
  },
  {
   "cell_type": "code",
   "execution_count": null,
   "metadata": {},
   "outputs": [],
   "source": []
  }
 ],
 "metadata": {
  "kernelspec": {
   "display_name": "omdchbot",
   "language": "python",
   "name": "python3"
  },
  "language_info": {
   "codemirror_mode": {
    "name": "ipython",
    "version": 3
   },
   "file_extension": ".py",
   "mimetype": "text/x-python",
   "name": "python",
   "nbconvert_exporter": "python",
   "pygments_lexer": "ipython3",
   "version": "3.12.2"
  },
  "orig_nbformat": 4
 },
 "nbformat": 4,
 "nbformat_minor": 2
}
